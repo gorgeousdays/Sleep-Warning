{
 "cells": [
  {
   "cell_type": "markdown",
   "metadata": {},
   "source": [
    "# Build the Model\n",
    "I train the model in Google Colab.However,there are some problems that do not exist in the local.The problems were solved when I changed the version of some packages."
   ]
  },
  {
   "cell_type": "code",
   "execution_count": 2,
   "metadata": {
    "colab": {
     "base_uri": "https://localhost:8080/"
    },
    "executionInfo": {
     "elapsed": 362,
     "status": "ok",
     "timestamp": 1623462454169,
     "user": {
      "displayName": "undefined undefined",
      "photoUrl": "",
      "userId": "18161897929692281169"
     },
     "user_tz": -480
    },
    "id": "HD0TGfbDl6qv",
    "outputId": "e6c03813-0238-464b-c251-6ed5ba4bea00"
   },
   "outputs": [
    {
     "name": "stdout",
     "output_type": "stream",
     "text": [
      "TensorFlow 1.x selected.\n"
     ]
    }
   ],
   "source": [
    "%tensorflow_version 1.x"
   ]
  },
  {
   "cell_type": "code",
   "execution_count": 1,
   "metadata": {
    "ExecuteTime": {
     "end_time": "2021-06-12T06:09:26.948625Z",
     "start_time": "2021-06-12T06:09:26.940543Z"
    },
    "colab": {
     "base_uri": "https://localhost:8080/"
    },
    "executionInfo": {
     "elapsed": 1683,
     "status": "ok",
     "timestamp": 1623462456673,
     "user": {
      "displayName": "undefined undefined",
      "photoUrl": "",
      "userId": "18161897929692281169"
     },
     "user_tz": -480
    },
    "id": "2dujPTIWfN23",
    "outputId": "c9027941-425c-4dda-dbc3-e5e5216f286b"
   },
   "outputs": [],
   "source": [
    "import keras\n",
    "from keras.models import Sequential,load_model\n",
    "from keras.layers import Dense, Dropout, Activation, Flatten\n",
    "from keras.layers import Conv2D, MaxPooling2D, BatchNormalization\n",
    "from keras import optimizers\n",
    "import numpy as np\n",
    "from keras.layers.core import Lambda\n",
    "from keras import regularizers"
   ]
  },
  {
   "cell_type": "code",
   "execution_count": 2,
   "metadata": {
    "ExecuteTime": {
     "end_time": "2021-06-12T06:09:33.316017Z",
     "start_time": "2021-06-12T06:09:32.904897Z"
    },
    "executionInfo": {
     "elapsed": 4,
     "status": "ok",
     "timestamp": 1623462456676,
     "user": {
      "displayName": "undefined undefined",
      "photoUrl": "",
      "userId": "18161897929692281169"
     },
     "user_tz": -480
    },
    "id": "_6AkS0G_gDKF"
   },
   "outputs": [],
   "source": [
    "import pickle\n",
    "import os\n",
    "import time\n",
    "import cv2\n",
    "import matplotlib.pyplot as plt"
   ]
  },
  {
   "cell_type": "code",
   "execution_count": 21,
   "metadata": {
    "colab": {
     "base_uri": "https://localhost:8080/",
     "height": 293
    },
    "executionInfo": {
     "elapsed": 4143,
     "status": "ok",
     "timestamp": 1623462402398,
     "user": {
      "displayName": "undefined undefined",
      "photoUrl": "",
      "userId": "18161897929692281169"
     },
     "user_tz": -480
    },
    "id": "72V_WyRSqJHW",
    "outputId": "7209b487-b8a4-4e5f-804c-77e4d12e8106"
   },
   "outputs": [
    {
     "name": "stdout",
     "output_type": "stream",
     "text": [
      "Collecting h5py==2.10\n",
      "\u001b[?25l  Downloading https://files.pythonhosted.org/packages/3f/c0/abde58b837e066bca19a3f7332d9d0493521d7dd6b48248451a9e3fe2214/h5py-2.10.0-cp37-cp37m-manylinux1_x86_64.whl (2.9MB)\n",
      "\r",
      "\u001b[K     |▏                               | 10kB 15.9MB/s eta 0:00:01\r",
      "\u001b[K     |▎                               | 20kB 21.4MB/s eta 0:00:01\r",
      "\u001b[K     |▍                               | 30kB 24.1MB/s eta 0:00:01\r",
      "\u001b[K     |▌                               | 40kB 26.1MB/s eta 0:00:01\r",
      "\u001b[K     |▋                               | 51kB 28.7MB/s eta 0:00:01\r",
      "\u001b[K     |▊                               | 61kB 28.8MB/s eta 0:00:01\r",
      "\u001b[K     |▉                               | 71kB 25.1MB/s eta 0:00:01\r",
      "\u001b[K     |█                               | 81kB 26.2MB/s eta 0:00:01\r",
      "\u001b[K     |█                               | 92kB 25.7MB/s eta 0:00:01\r",
      "\u001b[K     |█▏                              | 102kB 26.1MB/s eta 0:00:01\r",
      "\u001b[K     |█▎                              | 112kB 26.1MB/s eta 0:00:01\r",
      "\u001b[K     |█▍                              | 122kB 26.1MB/s eta 0:00:01\r",
      "\u001b[K     |█▌                              | 133kB 26.1MB/s eta 0:00:01\r",
      "\u001b[K     |█▋                              | 143kB 26.1MB/s eta 0:00:01\r",
      "\u001b[K     |█▊                              | 153kB 26.1MB/s eta 0:00:01\r",
      "\u001b[K     |█▉                              | 163kB 26.1MB/s eta 0:00:01\r",
      "\u001b[K     |██                              | 174kB 26.1MB/s eta 0:00:01\r",
      "\u001b[K     |██                              | 184kB 26.1MB/s eta 0:00:01\r",
      "\u001b[K     |██▏                             | 194kB 26.1MB/s eta 0:00:01\r",
      "\u001b[K     |██▎                             | 204kB 26.1MB/s eta 0:00:01\r",
      "\u001b[K     |██▍                             | 215kB 26.1MB/s eta 0:00:01\r",
      "\u001b[K     |██▌                             | 225kB 26.1MB/s eta 0:00:01\r",
      "\u001b[K     |██▋                             | 235kB 26.1MB/s eta 0:00:01\r",
      "\u001b[K     |██▊                             | 245kB 26.1MB/s eta 0:00:01\r",
      "\u001b[K     |██▉                             | 256kB 26.1MB/s eta 0:00:01\r",
      "\u001b[K     |███                             | 266kB 26.1MB/s eta 0:00:01\r",
      "\u001b[K     |███                             | 276kB 26.1MB/s eta 0:00:01\r",
      "\u001b[K     |███▏                            | 286kB 26.1MB/s eta 0:00:01\r",
      "\u001b[K     |███▎                            | 296kB 26.1MB/s eta 0:00:01\r",
      "\u001b[K     |███▍                            | 307kB 26.1MB/s eta 0:00:01\r",
      "\u001b[K     |███▌                            | 317kB 26.1MB/s eta 0:00:01\r",
      "\u001b[K     |███▋                            | 327kB 26.1MB/s eta 0:00:01\r",
      "\u001b[K     |███▊                            | 337kB 26.1MB/s eta 0:00:01\r",
      "\u001b[K     |███▉                            | 348kB 26.1MB/s eta 0:00:01\r",
      "\u001b[K     |████                            | 358kB 26.1MB/s eta 0:00:01\r",
      "\u001b[K     |████                            | 368kB 26.1MB/s eta 0:00:01\r",
      "\u001b[K     |████▎                           | 378kB 26.1MB/s eta 0:00:01\r",
      "\u001b[K     |████▍                           | 389kB 26.1MB/s eta 0:00:01\r",
      "\u001b[K     |████▌                           | 399kB 26.1MB/s eta 0:00:01\r",
      "\u001b[K     |████▋                           | 409kB 26.1MB/s eta 0:00:01\r",
      "\u001b[K     |████▊                           | 419kB 26.1MB/s eta 0:00:01\r",
      "\u001b[K     |████▉                           | 430kB 26.1MB/s eta 0:00:01\r",
      "\u001b[K     |█████                           | 440kB 26.1MB/s eta 0:00:01\r",
      "\u001b[K     |█████                           | 450kB 26.1MB/s eta 0:00:01\r",
      "\u001b[K     |█████▏                          | 460kB 26.1MB/s eta 0:00:01\r",
      "\u001b[K     |█████▎                          | 471kB 26.1MB/s eta 0:00:01\r",
      "\u001b[K     |█████▍                          | 481kB 26.1MB/s eta 0:00:01\r",
      "\u001b[K     |█████▌                          | 491kB 26.1MB/s eta 0:00:01\r",
      "\u001b[K     |█████▋                          | 501kB 26.1MB/s eta 0:00:01\r",
      "\u001b[K     |█████▊                          | 512kB 26.1MB/s eta 0:00:01\r",
      "\u001b[K     |█████▉                          | 522kB 26.1MB/s eta 0:00:01\r",
      "\u001b[K     |██████                          | 532kB 26.1MB/s eta 0:00:01\r",
      "\u001b[K     |██████                          | 542kB 26.1MB/s eta 0:00:01\r",
      "\u001b[K     |██████▏                         | 552kB 26.1MB/s eta 0:00:01\r",
      "\u001b[K     |██████▎                         | 563kB 26.1MB/s eta 0:00:01\r",
      "\u001b[K     |██████▍                         | 573kB 26.1MB/s eta 0:00:01\r",
      "\u001b[K     |██████▌                         | 583kB 26.1MB/s eta 0:00:01\r",
      "\u001b[K     |██████▋                         | 593kB 26.1MB/s eta 0:00:01\r",
      "\u001b[K     |██████▊                         | 604kB 26.1MB/s eta 0:00:01\r",
      "\u001b[K     |██████▉                         | 614kB 26.1MB/s eta 0:00:01\r",
      "\u001b[K     |███████                         | 624kB 26.1MB/s eta 0:00:01\r",
      "\u001b[K     |███████                         | 634kB 26.1MB/s eta 0:00:01\r",
      "\u001b[K     |███████▏                        | 645kB 26.1MB/s eta 0:00:01\r",
      "\u001b[K     |███████▎                        | 655kB 26.1MB/s eta 0:00:01\r",
      "\u001b[K     |███████▍                        | 665kB 26.1MB/s eta 0:00:01\r",
      "\u001b[K     |███████▌                        | 675kB 26.1MB/s eta 0:00:01\r",
      "\u001b[K     |███████▋                        | 686kB 26.1MB/s eta 0:00:01\r",
      "\u001b[K     |███████▊                        | 696kB 26.1MB/s eta 0:00:01\r",
      "\u001b[K     |███████▉                        | 706kB 26.1MB/s eta 0:00:01\r",
      "\u001b[K     |████████                        | 716kB 26.1MB/s eta 0:00:01\r",
      "\u001b[K     |████████                        | 727kB 26.1MB/s eta 0:00:01\r",
      "\u001b[K     |████████▏                       | 737kB 26.1MB/s eta 0:00:01\r",
      "\u001b[K     |████████▍                       | 747kB 26.1MB/s eta 0:00:01\r",
      "\u001b[K     |████████▌                       | 757kB 26.1MB/s eta 0:00:01\r",
      "\u001b[K     |████████▋                       | 768kB 26.1MB/s eta 0:00:01\r",
      "\u001b[K     |████████▊                       | 778kB 26.1MB/s eta 0:00:01\r",
      "\u001b[K     |████████▉                       | 788kB 26.1MB/s eta 0:00:01\r",
      "\u001b[K     |█████████                       | 798kB 26.1MB/s eta 0:00:01\r",
      "\u001b[K     |█████████                       | 808kB 26.1MB/s eta 0:00:01\r",
      "\u001b[K     |█████████▏                      | 819kB 26.1MB/s eta 0:00:01\r",
      "\u001b[K     |█████████▎                      | 829kB 26.1MB/s eta 0:00:01\r",
      "\u001b[K     |█████████▍                      | 839kB 26.1MB/s eta 0:00:01\r",
      "\u001b[K     |█████████▌                      | 849kB 26.1MB/s eta 0:00:01\r",
      "\u001b[K     |█████████▋                      | 860kB 26.1MB/s eta 0:00:01\r",
      "\u001b[K     |█████████▊                      | 870kB 26.1MB/s eta 0:00:01\r",
      "\u001b[K     |█████████▉                      | 880kB 26.1MB/s eta 0:00:01\r",
      "\u001b[K     |██████████                      | 890kB 26.1MB/s eta 0:00:01\r",
      "\u001b[K     |██████████                      | 901kB 26.1MB/s eta 0:00:01\r",
      "\u001b[K     |██████████▏                     | 911kB 26.1MB/s eta 0:00:01\r",
      "\u001b[K     |██████████▎                     | 921kB 26.1MB/s eta 0:00:01\r",
      "\u001b[K     |██████████▍                     | 931kB 26.1MB/s eta 0:00:01\r",
      "\u001b[K     |██████████▌                     | 942kB 26.1MB/s eta 0:00:01\r",
      "\u001b[K     |██████████▋                     | 952kB 26.1MB/s eta 0:00:01\r",
      "\u001b[K     |██████████▊                     | 962kB 26.1MB/s eta 0:00:01\r",
      "\u001b[K     |██████████▉                     | 972kB 26.1MB/s eta 0:00:01\r",
      "\u001b[K     |███████████                     | 983kB 26.1MB/s eta 0:00:01\r",
      "\u001b[K     |███████████                     | 993kB 26.1MB/s eta 0:00:01\r",
      "\u001b[K     |███████████▏                    | 1.0MB 26.1MB/s eta 0:00:01\r",
      "\u001b[K     |███████████▎                    | 1.0MB 26.1MB/s eta 0:00:01\r",
      "\u001b[K     |███████████▍                    | 1.0MB 26.1MB/s eta 0:00:01\r",
      "\u001b[K     |███████████▌                    | 1.0MB 26.1MB/s eta 0:00:01\r",
      "\u001b[K     |███████████▋                    | 1.0MB 26.1MB/s eta 0:00:01\r",
      "\u001b[K     |███████████▊                    | 1.1MB 26.1MB/s eta 0:00:01\r",
      "\u001b[K     |███████████▉                    | 1.1MB 26.1MB/s eta 0:00:01\r",
      "\u001b[K     |████████████                    | 1.1MB 26.1MB/s eta 0:00:01\r",
      "\u001b[K     |████████████                    | 1.1MB 26.1MB/s eta 0:00:01\r",
      "\u001b[K     |████████████▏                   | 1.1MB 26.1MB/s eta 0:00:01\r",
      "\u001b[K     |████████████▎                   | 1.1MB 26.1MB/s eta 0:00:01\r",
      "\u001b[K     |████████████▌                   | 1.1MB 26.1MB/s eta 0:00:01\r",
      "\u001b[K     |████████████▋                   | 1.1MB 26.1MB/s eta 0:00:01\r",
      "\u001b[K     |████████████▊                   | 1.1MB 26.1MB/s eta 0:00:01\r",
      "\u001b[K     |████████████▉                   | 1.1MB 26.1MB/s eta 0:00:01\r",
      "\u001b[K     |█████████████                   | 1.2MB 26.1MB/s eta 0:00:01\r",
      "\u001b[K     |█████████████                   | 1.2MB 26.1MB/s eta 0:00:01\r",
      "\u001b[K     |█████████████▏                  | 1.2MB 26.1MB/s eta 0:00:01\r",
      "\u001b[K     |█████████████▎                  | 1.2MB 26.1MB/s eta 0:00:01\r",
      "\u001b[K     |█████████████▍                  | 1.2MB 26.1MB/s eta 0:00:01\r",
      "\u001b[K     |█████████████▌                  | 1.2MB 26.1MB/s eta 0:00:01\r",
      "\u001b[K     |█████████████▋                  | 1.2MB 26.1MB/s eta 0:00:01\r",
      "\u001b[K     |█████████████▊                  | 1.2MB 26.1MB/s eta 0:00:01\r",
      "\u001b[K     |█████████████▉                  | 1.2MB 26.1MB/s eta 0:00:01\r",
      "\u001b[K     |██████████████                  | 1.2MB 26.1MB/s eta 0:00:01\r",
      "\u001b[K     |██████████████                  | 1.3MB 26.1MB/s eta 0:00:01\r",
      "\u001b[K     |██████████████▏                 | 1.3MB 26.1MB/s eta 0:00:01\r",
      "\u001b[K     |██████████████▎                 | 1.3MB 26.1MB/s eta 0:00:01\r",
      "\u001b[K     |██████████████▍                 | 1.3MB 26.1MB/s eta 0:00:01\r",
      "\u001b[K     |██████████████▌                 | 1.3MB 26.1MB/s eta 0:00:01\r",
      "\u001b[K     |██████████████▋                 | 1.3MB 26.1MB/s eta 0:00:01\r",
      "\u001b[K     |██████████████▊                 | 1.3MB 26.1MB/s eta 0:00:01\r",
      "\u001b[K     |██████████████▉                 | 1.3MB 26.1MB/s eta 0:00:01\r",
      "\u001b[K     |███████████████                 | 1.3MB 26.1MB/s eta 0:00:01\r",
      "\u001b[K     |███████████████                 | 1.4MB 26.1MB/s eta 0:00:01\r",
      "\u001b[K     |███████████████▏                | 1.4MB 26.1MB/s eta 0:00:01\r",
      "\u001b[K     |███████████████▎                | 1.4MB 26.1MB/s eta 0:00:01\r",
      "\u001b[K     |███████████████▍                | 1.4MB 26.1MB/s eta 0:00:01\r",
      "\u001b[K     |███████████████▌                | 1.4MB 26.1MB/s eta 0:00:01\r",
      "\u001b[K     |███████████████▋                | 1.4MB 26.1MB/s eta 0:00:01\r",
      "\u001b[K     |███████████████▊                | 1.4MB 26.1MB/s eta 0:00:01\r",
      "\u001b[K     |███████████████▉                | 1.4MB 26.1MB/s eta 0:00:01\r",
      "\u001b[K     |████████████████                | 1.4MB 26.1MB/s eta 0:00:01\r",
      "\u001b[K     |████████████████                | 1.4MB 26.1MB/s eta 0:00:01\r",
      "\u001b[K     |████████████████▏               | 1.5MB 26.1MB/s eta 0:00:01\r",
      "\u001b[K     |████████████████▎               | 1.5MB 26.1MB/s eta 0:00:01\r",
      "\u001b[K     |████████████████▍               | 1.5MB 26.1MB/s eta 0:00:01\r",
      "\u001b[K     |████████████████▋               | 1.5MB 26.1MB/s eta 0:00:01\r",
      "\u001b[K     |████████████████▊               | 1.5MB 26.1MB/s eta 0:00:01\r",
      "\u001b[K     |████████████████▉               | 1.5MB 26.1MB/s eta 0:00:01\r",
      "\u001b[K     |█████████████████               | 1.5MB 26.1MB/s eta 0:00:01\r",
      "\u001b[K     |█████████████████               | 1.5MB 26.1MB/s eta 0:00:01\r",
      "\u001b[K     |█████████████████▏              | 1.5MB 26.1MB/s eta 0:00:01\r",
      "\u001b[K     |█████████████████▎              | 1.5MB 26.1MB/s eta 0:00:01\r",
      "\u001b[K     |█████████████████▍              | 1.6MB 26.1MB/s eta 0:00:01\r",
      "\u001b[K     |█████████████████▌              | 1.6MB 26.1MB/s eta 0:00:01\r",
      "\u001b[K     |█████████████████▋              | 1.6MB 26.1MB/s eta 0:00:01\r",
      "\u001b[K     |█████████████████▊              | 1.6MB 26.1MB/s eta 0:00:01\r",
      "\u001b[K     |█████████████████▉              | 1.6MB 26.1MB/s eta 0:00:01\r",
      "\u001b[K     |██████████████████              | 1.6MB 26.1MB/s eta 0:00:01\r",
      "\u001b[K     |██████████████████              | 1.6MB 26.1MB/s eta 0:00:01\r",
      "\u001b[K     |██████████████████▏             | 1.6MB 26.1MB/s eta 0:00:01\r",
      "\u001b[K     |██████████████████▎             | 1.6MB 26.1MB/s eta 0:00:01\r",
      "\u001b[K     |██████████████████▍             | 1.6MB 26.1MB/s eta 0:00:01\r",
      "\u001b[K     |██████████████████▌             | 1.7MB 26.1MB/s eta 0:00:01\r",
      "\u001b[K     |██████████████████▋             | 1.7MB 26.1MB/s eta 0:00:01\r",
      "\u001b[K     |██████████████████▊             | 1.7MB 26.1MB/s eta 0:00:01\r",
      "\u001b[K     |██████████████████▉             | 1.7MB 26.1MB/s eta 0:00:01\r",
      "\u001b[K     |███████████████████             | 1.7MB 26.1MB/s eta 0:00:01\r",
      "\u001b[K     |███████████████████             | 1.7MB 26.1MB/s eta 0:00:01\r",
      "\u001b[K     |███████████████████▏            | 1.7MB 26.1MB/s eta 0:00:01\r",
      "\u001b[K     |███████████████████▎            | 1.7MB 26.1MB/s eta 0:00:01\r",
      "\u001b[K     |███████████████████▍            | 1.7MB 26.1MB/s eta 0:00:01\r",
      "\u001b[K     |███████████████████▌            | 1.8MB 26.1MB/s eta 0:00:01\r",
      "\u001b[K     |███████████████████▋            | 1.8MB 26.1MB/s eta 0:00:01\r",
      "\u001b[K     |███████████████████▊            | 1.8MB 26.1MB/s eta 0:00:01\r",
      "\u001b[K     |███████████████████▉            | 1.8MB 26.1MB/s eta 0:00:01\r",
      "\u001b[K     |████████████████████            | 1.8MB 26.1MB/s eta 0:00:01\r",
      "\u001b[K     |████████████████████            | 1.8MB 26.1MB/s eta 0:00:01\r",
      "\u001b[K     |████████████████████▏           | 1.8MB 26.1MB/s eta 0:00:01\r",
      "\u001b[K     |████████████████████▎           | 1.8MB 26.1MB/s eta 0:00:01\r",
      "\u001b[K     |████████████████████▍           | 1.8MB 26.1MB/s eta 0:00:01\r",
      "\u001b[K     |████████████████████▌           | 1.8MB 26.1MB/s eta 0:00:01\r",
      "\u001b[K     |████████████████████▊           | 1.9MB 26.1MB/s eta 0:00:01\r",
      "\u001b[K     |████████████████████▉           | 1.9MB 26.1MB/s eta 0:00:01\r",
      "\u001b[K     |█████████████████████           | 1.9MB 26.1MB/s eta 0:00:01\r",
      "\u001b[K     |█████████████████████           | 1.9MB 26.1MB/s eta 0:00:01\r",
      "\u001b[K     |█████████████████████▏          | 1.9MB 26.1MB/s eta 0:00:01\r",
      "\u001b[K     |█████████████████████▎          | 1.9MB 26.1MB/s eta 0:00:01\r",
      "\u001b[K     |█████████████████████▍          | 1.9MB 26.1MB/s eta 0:00:01\r",
      "\u001b[K     |█████████████████████▌          | 1.9MB 26.1MB/s eta 0:00:01\r",
      "\u001b[K     |█████████████████████▋          | 1.9MB 26.1MB/s eta 0:00:01\r",
      "\u001b[K     |█████████████████████▊          | 1.9MB 26.1MB/s eta 0:00:01\r",
      "\u001b[K     |█████████████████████▉          | 2.0MB 26.1MB/s eta 0:00:01\r",
      "\u001b[K     |██████████████████████          | 2.0MB 26.1MB/s eta 0:00:01\r",
      "\u001b[K     |██████████████████████          | 2.0MB 26.1MB/s eta 0:00:01\r",
      "\u001b[K     |██████████████████████▏         | 2.0MB 26.1MB/s eta 0:00:01\r",
      "\u001b[K     |██████████████████████▎         | 2.0MB 26.1MB/s eta 0:00:01\r",
      "\u001b[K     |██████████████████████▍         | 2.0MB 26.1MB/s eta 0:00:01\r",
      "\u001b[K     |██████████████████████▌         | 2.0MB 26.1MB/s eta 0:00:01\r",
      "\u001b[K     |██████████████████████▋         | 2.0MB 26.1MB/s eta 0:00:01\r",
      "\u001b[K     |██████████████████████▊         | 2.0MB 26.1MB/s eta 0:00:01\r",
      "\u001b[K     |██████████████████████▉         | 2.0MB 26.1MB/s eta 0:00:01\r",
      "\u001b[K     |███████████████████████         | 2.1MB 26.1MB/s eta 0:00:01\r",
      "\u001b[K     |███████████████████████         | 2.1MB 26.1MB/s eta 0:00:01\r",
      "\u001b[K     |███████████████████████▏        | 2.1MB 26.1MB/s eta 0:00:01\r",
      "\u001b[K     |███████████████████████▎        | 2.1MB 26.1MB/s eta 0:00:01\r",
      "\u001b[K     |███████████████████████▍        | 2.1MB 26.1MB/s eta 0:00:01\r",
      "\u001b[K     |███████████████████████▌        | 2.1MB 26.1MB/s eta 0:00:01\r",
      "\u001b[K     |███████████████████████▋        | 2.1MB 26.1MB/s eta 0:00:01\r",
      "\u001b[K     |███████████████████████▊        | 2.1MB 26.1MB/s eta 0:00:01\r",
      "\u001b[K     |███████████████████████▉        | 2.1MB 26.1MB/s eta 0:00:01\r",
      "\u001b[K     |████████████████████████        | 2.2MB 26.1MB/s eta 0:00:01\r",
      "\u001b[K     |████████████████████████        | 2.2MB 26.1MB/s eta 0:00:01\r",
      "\u001b[K     |████████████████████████▏       | 2.2MB 26.1MB/s eta 0:00:01\r",
      "\u001b[K     |████████████████████████▎       | 2.2MB 26.1MB/s eta 0:00:01\r",
      "\u001b[K     |████████████████████████▍       | 2.2MB 26.1MB/s eta 0:00:01\r",
      "\u001b[K     |████████████████████████▌       | 2.2MB 26.1MB/s eta 0:00:01\r",
      "\u001b[K     |████████████████████████▋       | 2.2MB 26.1MB/s eta 0:00:01\r",
      "\u001b[K     |████████████████████████▊       | 2.2MB 26.1MB/s eta 0:00:01\r",
      "\u001b[K     |█████████████████████████       | 2.2MB 26.1MB/s eta 0:00:01\r",
      "\u001b[K     |█████████████████████████       | 2.2MB 26.1MB/s eta 0:00:01\r",
      "\u001b[K     |█████████████████████████▏      | 2.3MB 26.1MB/s eta 0:00:01\r",
      "\u001b[K     |█████████████████████████▎      | 2.3MB 26.1MB/s eta 0:00:01\r",
      "\u001b[K     |█████████████████████████▍      | 2.3MB 26.1MB/s eta 0:00:01\r",
      "\u001b[K     |█████████████████████████▌      | 2.3MB 26.1MB/s eta 0:00:01\r",
      "\u001b[K     |█████████████████████████▋      | 2.3MB 26.1MB/s eta 0:00:01\r",
      "\u001b[K     |█████████████████████████▊      | 2.3MB 26.1MB/s eta 0:00:01\r",
      "\u001b[K     |█████████████████████████▉      | 2.3MB 26.1MB/s eta 0:00:01\r",
      "\u001b[K     |██████████████████████████      | 2.3MB 26.1MB/s eta 0:00:01\r",
      "\u001b[K     |██████████████████████████      | 2.3MB 26.1MB/s eta 0:00:01\r",
      "\u001b[K     |██████████████████████████▏     | 2.3MB 26.1MB/s eta 0:00:01\r",
      "\u001b[K     |██████████████████████████▎     | 2.4MB 26.1MB/s eta 0:00:01\r",
      "\u001b[K     |██████████████████████████▍     | 2.4MB 26.1MB/s eta 0:00:01\r",
      "\u001b[K     |██████████████████████████▌     | 2.4MB 26.1MB/s eta 0:00:01\r",
      "\u001b[K     |██████████████████████████▋     | 2.4MB 26.1MB/s eta 0:00:01\r",
      "\u001b[K     |██████████████████████████▊     | 2.4MB 26.1MB/s eta 0:00:01\r",
      "\u001b[K     |██████████████████████████▉     | 2.4MB 26.1MB/s eta 0:00:01\r",
      "\u001b[K     |███████████████████████████     | 2.4MB 26.1MB/s eta 0:00:01\r",
      "\u001b[K     |███████████████████████████     | 2.4MB 26.1MB/s eta 0:00:01\r",
      "\u001b[K     |███████████████████████████▏    | 2.4MB 26.1MB/s eta 0:00:01\r",
      "\u001b[K     |███████████████████████████▎    | 2.4MB 26.1MB/s eta 0:00:01\r",
      "\u001b[K     |███████████████████████████▍    | 2.5MB 26.1MB/s eta 0:00:01\r",
      "\u001b[K     |███████████████████████████▌    | 2.5MB 26.1MB/s eta 0:00:01\r",
      "\u001b[K     |███████████████████████████▋    | 2.5MB 26.1MB/s eta 0:00:01\r",
      "\u001b[K     |███████████████████████████▊    | 2.5MB 26.1MB/s eta 0:00:01\r",
      "\u001b[K     |███████████████████████████▉    | 2.5MB 26.1MB/s eta 0:00:01\r",
      "\u001b[K     |████████████████████████████    | 2.5MB 26.1MB/s eta 0:00:01\r",
      "\u001b[K     |████████████████████████████    | 2.5MB 26.1MB/s eta 0:00:01\r",
      "\u001b[K     |████████████████████████████▏   | 2.5MB 26.1MB/s eta 0:00:01\r",
      "\u001b[K     |████████████████████████████▎   | 2.5MB 26.1MB/s eta 0:00:01\r",
      "\u001b[K     |████████████████████████████▍   | 2.5MB 26.1MB/s eta 0:00:01\r",
      "\u001b[K     |████████████████████████████▌   | 2.6MB 26.1MB/s eta 0:00:01\r",
      "\u001b[K     |████████████████████████████▋   | 2.6MB 26.1MB/s eta 0:00:01\r",
      "\u001b[K     |████████████████████████████▊   | 2.6MB 26.1MB/s eta 0:00:01\r",
      "\u001b[K     |████████████████████████████▉   | 2.6MB 26.1MB/s eta 0:00:01\r",
      "\u001b[K     |█████████████████████████████   | 2.6MB 26.1MB/s eta 0:00:01\r",
      "\u001b[K     |█████████████████████████████▏  | 2.6MB 26.1MB/s eta 0:00:01\r",
      "\u001b[K     |█████████████████████████████▎  | 2.6MB 26.1MB/s eta 0:00:01\r",
      "\u001b[K     |█████████████████████████████▍  | 2.6MB 26.1MB/s eta 0:00:01\r",
      "\u001b[K     |█████████████████████████████▌  | 2.6MB 26.1MB/s eta 0:00:01\r",
      "\u001b[K     |█████████████████████████████▋  | 2.7MB 26.1MB/s eta 0:00:01\r",
      "\u001b[K     |█████████████████████████████▊  | 2.7MB 26.1MB/s eta 0:00:01\r",
      "\u001b[K     |█████████████████████████████▉  | 2.7MB 26.1MB/s eta 0:00:01\r",
      "\u001b[K     |██████████████████████████████  | 2.7MB 26.1MB/s eta 0:00:01\r",
      "\u001b[K     |██████████████████████████████  | 2.7MB 26.1MB/s eta 0:00:01\r",
      "\u001b[K     |██████████████████████████████▏ | 2.7MB 26.1MB/s eta 0:00:01\r",
      "\u001b[K     |██████████████████████████████▎ | 2.7MB 26.1MB/s eta 0:00:01\r",
      "\u001b[K     |██████████████████████████████▍ | 2.7MB 26.1MB/s eta 0:00:01\r",
      "\u001b[K     |██████████████████████████████▌ | 2.7MB 26.1MB/s eta 0:00:01\r",
      "\u001b[K     |██████████████████████████████▋ | 2.7MB 26.1MB/s eta 0:00:01\r",
      "\u001b[K     |██████████████████████████████▊ | 2.8MB 26.1MB/s eta 0:00:01\r",
      "\u001b[K     |██████████████████████████████▉ | 2.8MB 26.1MB/s eta 0:00:01\r",
      "\u001b[K     |███████████████████████████████ | 2.8MB 26.1MB/s eta 0:00:01\r",
      "\u001b[K     |███████████████████████████████ | 2.8MB 26.1MB/s eta 0:00:01\r",
      "\u001b[K     |███████████████████████████████▏| 2.8MB 26.1MB/s eta 0:00:01\r",
      "\u001b[K     |███████████████████████████████▎| 2.8MB 26.1MB/s eta 0:00:01\r",
      "\u001b[K     |███████████████████████████████▍| 2.8MB 26.1MB/s eta 0:00:01\r",
      "\u001b[K     |███████████████████████████████▌| 2.8MB 26.1MB/s eta 0:00:01\r",
      "\u001b[K     |███████████████████████████████▋| 2.8MB 26.1MB/s eta 0:00:01\r",
      "\u001b[K     |███████████████████████████████▊| 2.8MB 26.1MB/s eta 0:00:01\r",
      "\u001b[K     |███████████████████████████████▉| 2.9MB 26.1MB/s eta 0:00:01\r",
      "\u001b[K     |████████████████████████████████| 2.9MB 26.1MB/s eta 0:00:01\r",
      "\u001b[K     |████████████████████████████████| 2.9MB 26.1MB/s \n",
      "\u001b[?25hRequirement already satisfied: numpy>=1.7 in /usr/local/lib/python3.7/dist-packages (from h5py==2.10) (1.19.5)\n",
      "Requirement already satisfied: six in /usr/local/lib/python3.7/dist-packages (from h5py==2.10) (1.15.0)\n",
      "Installing collected packages: h5py\n",
      "  Found existing installation: h5py 3.1.0\n",
      "    Uninstalling h5py-3.1.0:\n",
      "      Successfully uninstalled h5py-3.1.0\n",
      "Successfully installed h5py-2.10.0\n"
     ]
    },
    {
     "data": {
      "application/vnd.colab-display-data+json": {
       "pip_warning": {
        "packages": [
         "h5py"
        ]
       }
      }
     },
     "metadata": {
      "tags": []
     },
     "output_type": "display_data"
    }
   ],
   "source": [
    "!pip install h5py==2.10"
   ]
  },
  {
   "cell_type": "code",
   "execution_count": 13,
   "metadata": {
    "executionInfo": {
     "elapsed": 281,
     "status": "ok",
     "timestamp": 1623462576600,
     "user": {
      "displayName": "undefined undefined",
      "photoUrl": "",
      "userId": "18161897929692281169"
     },
     "user_tz": -480
    },
    "id": "mBpd7zGkgVon"
   },
   "outputs": [],
   "source": [
    "def load_data():\n",
    "    f = open('processed_data/X.pickle','rb')\n",
    "    X = pickle.load(f)\n",
    "    f = open('/processed_data/y.pickle','rb')\n",
    "    y = pickle.load(f)\n",
    "    return X, y"
   ]
  },
  {
   "cell_type": "code",
   "execution_count": 16,
   "metadata": {
    "executionInfo": {
     "elapsed": 393,
     "status": "ok",
     "timestamp": 1623462607079,
     "user": {
      "displayName": "undefined undefined",
      "photoUrl": "",
      "userId": "18161897929692281169"
     },
     "user_tz": -480
    },
    "id": "9536NhAA2qKG"
   },
   "outputs": [],
   "source": [
    "def create_model(X):\n",
    "    keras.backend.clear_session()\n",
    "    model = Sequential()\n",
    "    model.add(Conv2D(64, (3,3), input_shape = X.shape[1:]))\n",
    "    model.add(Activation(\"relu\"))\n",
    "    model.add(MaxPooling2D(pool_size=(2,2)))\n",
    "\n",
    "    model.add(Conv2D(64, (3,3)))\n",
    "    model.add(Activation(\"relu\"))\n",
    "    model.add(MaxPooling2D(pool_size=(2,2)))\n",
    "\n",
    "    model.add(Flatten())\n",
    "    model.add(Dense(128))\n",
    "    model.add(Dropout(0.5))\n",
    "    model.add(Activation(\"relu\"))\n",
    "\n",
    "    model.add(Dense(1))\n",
    "    model.add(Activation(\"sigmoid\"))\n",
    "\n",
    "    model.compile(loss=\"binary_crossentropy\", optimizer= \"adam\", metrics=[\"accuracy\"])\n",
    "    return model"
   ]
  },
  {
   "cell_type": "code",
   "execution_count": 37,
   "metadata": {
    "executionInfo": {
     "elapsed": 284,
     "status": "ok",
     "timestamp": 1623465339325,
     "user": {
      "displayName": "undefined undefined",
      "photoUrl": "",
      "userId": "18161897929692281169"
     },
     "user_tz": -480
    },
    "id": "MYDcFy8QghBJ"
   },
   "outputs": [],
   "source": [
    "def train_model(model, X, y):\n",
    "    model.fit(X, y, batch_size=32, epochs=25,validation_split=0.2)\n",
    "    model.save('detect.h5')"
   ]
  },
  {
   "cell_type": "code",
   "execution_count": 14,
   "metadata": {
    "executionInfo": {
     "elapsed": 4205,
     "status": "ok",
     "timestamp": 1623462590065,
     "user": {
      "displayName": "undefined undefined",
      "photoUrl": "",
      "userId": "18161897929692281169"
     },
     "user_tz": -480
    },
    "id": "EzbCZ1mtgoBy"
   },
   "outputs": [],
   "source": [
    "X,y = load_data()"
   ]
  },
  {
   "cell_type": "code",
   "execution_count": null,
   "metadata": {
    "colab": {
     "base_uri": "https://localhost:8080/",
     "height": 198
    },
    "executionInfo": {
     "elapsed": 2602,
     "status": "error",
     "timestamp": 1623460909166,
     "user": {
      "displayName": "undefined undefined",
      "photoUrl": "",
      "userId": "18161897929692281169"
     },
     "user_tz": -480
    },
    "id": "1UuidOuRkab0",
    "outputId": "52429379-63d7-47ee-9b03-567396aa8471"
   },
   "outputs": [],
   "source": [
    "print(X.shape, X.dtype)"
   ]
  },
  {
   "cell_type": "code",
   "execution_count": 38,
   "metadata": {
    "executionInfo": {
     "elapsed": 443,
     "status": "ok",
     "timestamp": 1623465349502,
     "user": {
      "displayName": "undefined undefined",
      "photoUrl": "",
      "userId": "18161897929692281169"
     },
     "user_tz": -480
    },
    "id": "0lz179mI3aEY"
   },
   "outputs": [],
   "source": [
    "model=create_model(X)"
   ]
  },
  {
   "cell_type": "code",
   "execution_count": 43,
   "metadata": {
    "colab": {
     "base_uri": "https://localhost:8080/"
    },
    "executionInfo": {
     "elapsed": 451223,
     "status": "ok",
     "timestamp": 1623466355500,
     "user": {
      "displayName": "undefined undefined",
      "photoUrl": "",
      "userId": "18161897929692281169"
     },
     "user_tz": -480
    },
    "id": "pkj1zjQ3jg2Q",
    "outputId": "d938df60-f27c-474c-a1e5-40dde319b8f1"
   },
   "outputs": [
    {
     "name": "stdout",
     "output_type": "stream",
     "text": [
      "Train on 68953 samples, validate on 17239 samples\n",
      "Epoch 1/25\n",
      "68953/68953 [==============================] - 18s 265us/step - loss: 0.0202 - accuracy: 0.9925 - val_loss: 0.0518 - val_accuracy: 0.9881\n",
      "Epoch 2/25\n",
      "68953/68953 [==============================] - 18s 263us/step - loss: 0.0204 - accuracy: 0.9921 - val_loss: 0.0530 - val_accuracy: 0.9881\n",
      "Epoch 3/25\n",
      "68953/68953 [==============================] - 18s 262us/step - loss: 0.0205 - accuracy: 0.9924 - val_loss: 0.0481 - val_accuracy: 0.9886\n",
      "Epoch 4/25\n",
      "68953/68953 [==============================] - 18s 262us/step - loss: 0.0186 - accuracy: 0.9932 - val_loss: 0.0557 - val_accuracy: 0.9891\n",
      "Epoch 5/25\n",
      "68953/68953 [==============================] - 18s 263us/step - loss: 0.0184 - accuracy: 0.9933 - val_loss: 0.0521 - val_accuracy: 0.9891\n",
      "Epoch 6/25\n",
      "68953/68953 [==============================] - 18s 259us/step - loss: 0.0190 - accuracy: 0.9929 - val_loss: 0.0566 - val_accuracy: 0.9878\n",
      "Epoch 7/25\n",
      "68953/68953 [==============================] - 18s 261us/step - loss: 0.0198 - accuracy: 0.9929 - val_loss: 0.0529 - val_accuracy: 0.9876\n",
      "Epoch 8/25\n",
      "68953/68953 [==============================] - 18s 260us/step - loss: 0.0172 - accuracy: 0.9934 - val_loss: 0.0479 - val_accuracy: 0.9872\n",
      "Epoch 9/25\n",
      "68953/68953 [==============================] - 18s 259us/step - loss: 0.0163 - accuracy: 0.9939 - val_loss: 0.0508 - val_accuracy: 0.9886\n",
      "Epoch 10/25\n",
      "68953/68953 [==============================] - 18s 259us/step - loss: 0.0158 - accuracy: 0.9940 - val_loss: 0.0640 - val_accuracy: 0.9875\n",
      "Epoch 11/25\n",
      "68953/68953 [==============================] - 18s 261us/step - loss: 0.0177 - accuracy: 0.9933 - val_loss: 0.0547 - val_accuracy: 0.9885\n",
      "Epoch 12/25\n",
      "68953/68953 [==============================] - 18s 259us/step - loss: 0.0152 - accuracy: 0.9943 - val_loss: 0.0784 - val_accuracy: 0.9864\n",
      "Epoch 13/25\n",
      "68953/68953 [==============================] - 18s 261us/step - loss: 0.0157 - accuracy: 0.9943 - val_loss: 0.0563 - val_accuracy: 0.9880\n",
      "Epoch 14/25\n",
      "68953/68953 [==============================] - 18s 261us/step - loss: 0.0158 - accuracy: 0.9938 - val_loss: 0.0549 - val_accuracy: 0.9887\n",
      "Epoch 15/25\n",
      "68953/68953 [==============================] - 18s 260us/step - loss: 0.0141 - accuracy: 0.9945 - val_loss: 0.0563 - val_accuracy: 0.9881\n",
      "Epoch 16/25\n",
      "68953/68953 [==============================] - 18s 262us/step - loss: 0.0143 - accuracy: 0.9947 - val_loss: 0.0630 - val_accuracy: 0.9874\n",
      "Epoch 17/25\n",
      "68953/68953 [==============================] - 18s 263us/step - loss: 0.0146 - accuracy: 0.9945 - val_loss: 0.0575 - val_accuracy: 0.9878\n",
      "Epoch 18/25\n",
      "68953/68953 [==============================] - 18s 262us/step - loss: 0.0151 - accuracy: 0.9947 - val_loss: 0.0653 - val_accuracy: 0.9889\n",
      "Epoch 19/25\n",
      "68953/68953 [==============================] - 18s 260us/step - loss: 0.0141 - accuracy: 0.9948 - val_loss: 0.0640 - val_accuracy: 0.9881\n",
      "Epoch 20/25\n",
      "68953/68953 [==============================] - 18s 261us/step - loss: 0.0135 - accuracy: 0.9951 - val_loss: 0.0626 - val_accuracy: 0.9889\n",
      "Epoch 21/25\n",
      "68953/68953 [==============================] - 18s 261us/step - loss: 0.0132 - accuracy: 0.9949 - val_loss: 0.0747 - val_accuracy: 0.9870\n",
      "Epoch 22/25\n",
      "68953/68953 [==============================] - 18s 263us/step - loss: 0.0142 - accuracy: 0.9948 - val_loss: 0.0647 - val_accuracy: 0.9886\n",
      "Epoch 23/25\n",
      "68953/68953 [==============================] - 18s 264us/step - loss: 0.0143 - accuracy: 0.9949 - val_loss: 0.0642 - val_accuracy: 0.9883\n",
      "Epoch 24/25\n",
      "68953/68953 [==============================] - 18s 262us/step - loss: 0.0123 - accuracy: 0.9952 - val_loss: 0.0693 - val_accuracy: 0.9883\n",
      "Epoch 25/25\n",
      "68953/68953 [==============================] - 18s 264us/step - loss: 0.0133 - accuracy: 0.9953 - val_loss: 0.0643 - val_accuracy: 0.9885\n"
     ]
    }
   ],
   "source": [
    "train_model(model, X, y)"
   ]
  },
  {
   "cell_type": "code",
   "execution_count": null,
   "metadata": {},
   "outputs": [],
   "source": [
    "history=model.fit(X, y, batch_size=32, epochs=25,validation_split=0.2)\n",
    "\n",
    "plt.plot(history.history['accuracy'])\n",
    "plt.plot(history.history['val_accuracy'])\n",
    "plt.title('model accuracy')\n",
    "plt.ylabel('accuracy')\n",
    "plt.xlabel('epoch')\n",
    "plt.legend(['train', 'test'], loc='upper left')\n",
    "plt.show()\n",
    "\n",
    "\n",
    "plt.plot(history.history['loss'])\n",
    "plt.plot(history.history['val_loss'])\n",
    "plt.title('model loss')\n",
    "plt.ylabel('loss')\n",
    "plt.xlabel('epoch')\n",
    "plt.legend(['train', 'test'], loc='upper left')\n",
    "plt.show()"
   ]
  },
  {
   "cell_type": "code",
   "execution_count": 8,
   "metadata": {
    "ExecuteTime": {
     "end_time": "2021-06-12T06:14:52.252804Z",
     "start_time": "2021-06-12T06:14:52.240621Z"
    }
   },
   "outputs": [],
   "source": [
    "import tensorflow as tf"
   ]
  },
  {
   "cell_type": "code",
   "execution_count": 16,
   "metadata": {
    "ExecuteTime": {
     "end_time": "2021-06-12T06:19:19.569313Z",
     "start_time": "2021-06-12T06:19:17.919131Z"
    },
    "colab": {
     "base_uri": "https://localhost:8080/",
     "height": 302
    },
    "executionInfo": {
     "elapsed": 3480,
     "status": "ok",
     "timestamp": 1623466419266,
     "user": {
      "displayName": "undefined undefined",
      "photoUrl": "",
      "userId": "18161897929692281169"
     },
     "user_tz": -480
    },
    "id": "_0GL5QHUm2uK",
    "outputId": "52e6e3e7-0800-4fc7-fb59-4a3d2ef066aa"
   },
   "outputs": [
    {
     "name": "stdout",
     "output_type": "stream",
     "text": [
      "Eye is:  closed\n"
     ]
    },
    {
     "data": {
      "image/png": "[encoded data removed]",
      "text/plain": [
       "<Figure size 432x288 with 1 Axes>"
      ]
     },
     "metadata": {
      "needs_background": "light"
     },
     "output_type": "display_data"
    }
   ],
   "source": [
    "model =tf.keras.models.load_model('detect.h5')\n",
    "LABEL = [\"closed\", \"open\"]\n",
    "IMG_DIM = 50\n",
    "\n",
    "test_image_path=\"img/test.png\"\n",
    "img = cv2.imread(test_image_path, cv2.IMREAD_GRAYSCALE)\n",
    "image = cv2.resize(img, (IMG_DIM, IMG_DIM))\n",
    "image = image.reshape(-1, IMG_DIM, IMG_DIM, 1)\n",
    "prediction = model.predict_classes(image)\n",
    "#print(prediction)\n",
    "print(\"Eye is: \",LABEL[int(prediction[0])])\n",
    "plt.imshow(img, cmap='gray')\n",
    "plt.show()"
   ]
  },
  {
   "cell_type": "markdown",
   "metadata": {},
   "source": [
    "**I also tried Vgg16，but it could not preform well.**"
   ]
  },
  {
   "cell_type": "code",
   "execution_count": null,
   "metadata": {},
   "outputs": [],
   "source": [
    "def create_model_vgg(X):\n",
    "        model = Sequential()\n",
    "        weight_decay = 0.0005\n",
    "\n",
    "        model.add(Conv2D(64, (3, 3), padding='same',\n",
    "                          input_shape = X.shape[1:],kernel_regularizer=regularizers.l2(weight_decay)))\n",
    "        model.add(Activation('relu'))\n",
    "        model.add(BatchNormalization())\n",
    "        model.add(Dropout(0.3))\n",
    "\n",
    "        model.add(Conv2D(64, (3, 3), padding='same',kernel_regularizer=regularizers.l2(weight_decay)))\n",
    "        model.add(Activation('relu'))\n",
    "        model.add(BatchNormalization())\n",
    "\n",
    "        model.add(MaxPooling2D(pool_size=(2, 2)))\n",
    "\n",
    "        model.add(Conv2D(128, (3, 3), padding='same',kernel_regularizer=regularizers.l2(weight_decay)))\n",
    "        model.add(Activation('relu'))\n",
    "        model.add(BatchNormalization())\n",
    "        model.add(Dropout(0.4))\n",
    "\n",
    "        model.add(Conv2D(128, (3, 3), padding='same',kernel_regularizer=regularizers.l2(weight_decay)))\n",
    "        model.add(Activation('relu'))\n",
    "        model.add(BatchNormalization())\n",
    "\n",
    "        model.add(MaxPooling2D(pool_size=(2, 2)))\n",
    "\n",
    "        model.add(Conv2D(256, (3, 3), padding='same',kernel_regularizer=regularizers.l2(weight_decay)))\n",
    "        model.add(Activation('relu'))\n",
    "        model.add(BatchNormalization())\n",
    "        model.add(Dropout(0.4))\n",
    "\n",
    "        model.add(Conv2D(256, (3, 3), padding='same',kernel_regularizer=regularizers.l2(weight_decay)))\n",
    "        model.add(Activation('relu'))\n",
    "        model.add(BatchNormalization())\n",
    "        model.add(Dropout(0.4))\n",
    "\n",
    "        model.add(Conv2D(256, (3, 3), padding='same',kernel_regularizer=regularizers.l2(weight_decay)))\n",
    "        model.add(Activation('relu'))\n",
    "        model.add(BatchNormalization())\n",
    "\n",
    "        model.add(MaxPooling2D(pool_size=(2, 2)))\n",
    "\n",
    "\n",
    "        model.add(Conv2D(512, (3, 3), padding='same',kernel_regularizer=regularizers.l2(weight_decay)))\n",
    "        model.add(Activation('relu'))\n",
    "        model.add(BatchNormalization())\n",
    "        model.add(Dropout(0.4))\n",
    "\n",
    "        model.add(Conv2D(512, (3, 3), padding='same',kernel_regularizer=regularizers.l2(weight_decay)))\n",
    "        model.add(Activation('relu'))\n",
    "        model.add(BatchNormalization())\n",
    "        model.add(Dropout(0.4))\n",
    "\n",
    "        model.add(Conv2D(512, (3, 3), padding='same',kernel_regularizer=regularizers.l2(weight_decay)))\n",
    "        model.add(Activation('relu'))\n",
    "        model.add(BatchNormalization())\n",
    "\n",
    "        model.add(MaxPooling2D(pool_size=(2, 2)))\n",
    "\n",
    "\n",
    "        model.add(Conv2D(512, (3, 3), padding='same',kernel_regularizer=regularizers.l2(weight_decay)))\n",
    "        model.add(Activation('relu'))\n",
    "        model.add(BatchNormalization())\n",
    "        model.add(Dropout(0.4))\n",
    "\n",
    "        model.add(Conv2D(512, (3, 3), padding='same',kernel_regularizer=regularizers.l2(weight_decay)))\n",
    "        model.add(Activation('relu'))\n",
    "        model.add(BatchNormalization())\n",
    "        model.add(Dropout(0.4))\n",
    "\n",
    "        model.add(Conv2D(512, (3, 3), padding='same',kernel_regularizer=regularizers.l2(weight_decay)))\n",
    "        model.add(Activation('relu'))\n",
    "        model.add(BatchNormalization())\n",
    "\n",
    "        model.add(MaxPooling2D(pool_size=(2, 2)))\n",
    "        model.add(Dropout(0.5))\n",
    "\n",
    "        model.add(Flatten())\n",
    "        model.add(Dense(512,kernel_regularizer=regularizers.l2(weight_decay)))\n",
    "        model.add(Activation('relu'))\n",
    "        model.add(BatchNormalization())\n",
    "\n",
    "        model.add(Dropout(0.5))\n",
    "        model.add(Dense(1))\n",
    "        model.add(Activation('softmax'))\n",
    "        \n",
    "        model.compile(loss=\"binary_crossentropy\", optimizer= \"adam\", metrics=[\"accuracy\"])\n",
    "        return model"
   ]
  }
 ],
 "metadata": {
  "accelerator": "GPU",
  "colab": {
   "authorship_tag": "ABX9TyMKl3poLlruwO82g2OUOqFd",
   "mount_file_id": "1Y804Eju5zbPqouXFnioNuDwoGD8Ks3Si",
   "name": "train",
   "provenance": []
  },
  "kernelspec": {
   "display_name": "Python 3",
   "language": "python",
   "name": "python3"
  },
  "language_info": {
   "codemirror_mode": {
    "name": "ipython",
    "version": 3
   },
   "file_extension": ".py",
   "mimetype": "text/x-python",
   "name": "python",
   "nbconvert_exporter": "python",
   "pygments_lexer": "ipython3",
   "version": "3.6.7"
  },
  "toc": {
   "base_numbering": 1,
   "nav_menu": {},
   "number_sections": true,
   "sideBar": true,
   "skip_h1_title": false,
   "title_cell": "Table of Contents",
   "title_sidebar": "Contents",
   "toc_cell": false,
   "toc_position": {},
   "toc_section_display": true,
   "toc_window_display": false
  }
 },
 "nbformat": 4,
 "nbformat_minor": 1
}
