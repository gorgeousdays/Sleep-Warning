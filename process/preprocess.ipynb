{
 "cells": [
  {
   "cell_type": "markdown",
   "metadata": {},
   "source": [
    "## Preprocess\n",
    "\n",
    "Data is from http://mrl.cs.vsb.cz/eyedataset"
   ]
  },
  {
   "cell_type": "code",
   "execution_count": 1,
   "metadata": {
    "ExecuteTime": {
     "end_time": "2021-06-12T03:19:28.772506Z",
     "start_time": "2021-06-12T03:19:27.987167Z"
    }
   },
   "outputs": [],
   "source": [
    "import os\n",
    "import cv2\n",
    "import matplotlib.pyplot as plt\n",
    "import random\n",
    "import numpy as np\n",
    "import pickle"
   ]
  },
  {
   "cell_type": "code",
   "execution_count": 8,
   "metadata": {
    "ExecuteTime": {
     "end_time": "2021-06-12T03:35:40.380677Z",
     "start_time": "2021-06-12T03:35:40.365567Z"
    }
   },
   "outputs": [],
   "source": [
    "IMG_DIM = 50\n",
    "training_data = []\n",
    "X = []\n",
    "y = []"
   ]
  },
  {
   "cell_type": "code",
   "execution_count": 6,
   "metadata": {
    "ExecuteTime": {
     "end_time": "2021-06-12T03:28:02.729628Z",
     "start_time": "2021-06-12T03:28:02.712529Z"
    }
   },
   "outputs": [],
   "source": [
    "dataset_path = os.path.join(os.getcwd(), 'mrlEyes_2018_01')\n",
    "folders = [x for x in os.listdir(dataset_path) if os.path.isdir(os.path.join(dataset_path, x))]\n",
    "print(dataset_path)\n",
    "print(folders)"
   ]
  },
  {
   "cell_type": "code",
   "execution_count": 18,
   "metadata": {
    "ExecuteTime": {
     "end_time": "2021-06-12T03:39:48.409523Z",
     "start_time": "2021-06-12T03:39:48.295456Z"
    }
   },
   "outputs": [
    {
     "name": "stdout",
     "output_type": "stream",
     "text": [
      "Shape =  (86, 86)\n",
      "Shape=  (50, 50)\n"
     ]
    },
    {
     "data": {
      "image/png": "[encoded data removed]",
      "text/plain": [
       "<Figure size 432x288 with 1 Axes>"
      ]
     },
     "metadata": {
      "needs_background": "light"
     },
     "output_type": "display_data"
    }
   ],
   "source": [
    "for folder in folders:\n",
    "    folder_path = os.path.join(dataset_path, folder)\n",
    "    for img in os.listdir(folder_path):\n",
    "        imgpath=os.path.join(folder_path,img)\n",
    "        #print(imgpath)\n",
    "        snap = cv2.imread(imgpath, cv2.IMREAD_GRAYSCALE)\n",
    "        #print(snap)\n",
    "        #print(img.split('_')[4])  #label\n",
    "        print(\"Shape = \", snap.shape)\n",
    "        snap = cv2.resize(snap, (IMG_DIM, IMG_DIM))\n",
    "        print(\"Shape= \",snap.shape)\n",
    "        plt.imshow(snap, cmap='gray')\n",
    "        plt.show()\n",
    "        break\n",
    "    break"
   ]
  },
  {
   "cell_type": "code",
   "execution_count": 19,
   "metadata": {
    "ExecuteTime": {
     "end_time": "2021-06-12T03:40:23.582626Z",
     "start_time": "2021-06-12T03:40:23.562357Z"
    }
   },
   "outputs": [],
   "source": [
    "def create_dataset():\n",
    "    global X,y\n",
    "    for folder in folders:\n",
    "        folder_path = os.path.join(dataset_path, folder)\n",
    "        for img in os.listdir(folder_path):\n",
    "            img_path=os.path.join(folder_path,img)\n",
    "            snap = cv2.imread(img_path, cv2.IMREAD_GRAYSCALE)\n",
    "            snap = cv2.resize(snap, (IMG_DIM, IMG_DIM))\n",
    "            eye_state = int(img.split('_')[4])\n",
    "            training_data.append([snap, eye_state])\n",
    "    random.shuffle(training_data)\n",
    "    for img, label in training_data:\n",
    "        X.append(img)\n",
    "        y.append(label)\n",
    "    \n",
    "    X = np.array(X).reshape(-1, IMG_DIM, IMG_DIM, 1)\n",
    "    X = X/255.0\n",
    "    \n",
    "    pickle_out = open('processed_data/X.pickle', \"wb\")\n",
    "    pickle.dump(X, pickle_out)\n",
    "    pickle_out.close()\n",
    "\n",
    "    pickle_out = open('processed_data/y.pickle', \"wb\")\n",
    "    pickle.dump(y, pickle_out)\n",
    "    pickle_out.close()"
   ]
  },
  {
   "cell_type": "code",
   "execution_count": 20,
   "metadata": {
    "ExecuteTime": {
     "end_time": "2021-06-12T03:42:07.739292Z",
     "start_time": "2021-06-12T03:40:35.668919Z"
    }
   },
   "outputs": [],
   "source": [
    "create_dataset()"
   ]
  },
  {
   "cell_type": "code",
   "execution_count": 21,
   "metadata": {
    "ExecuteTime": {
     "end_time": "2021-06-12T03:42:23.033452Z",
     "start_time": "2021-06-12T03:42:23.020011Z"
    }
   },
   "outputs": [
    {
     "name": "stdout",
     "output_type": "stream",
     "text": [
      "84898\n",
      "84898\n"
     ]
    }
   ],
   "source": [
    "print(len(X))\n",
    "print(len(y))"
   ]
  }
 ],
 "metadata": {
  "kernelspec": {
   "display_name": "Python 3",
   "language": "python",
   "name": "python3"
  },
  "language_info": {
   "codemirror_mode": {
    "name": "ipython",
    "version": 3
   },
   "file_extension": ".py",
   "mimetype": "text/x-python",
   "name": "python",
   "nbconvert_exporter": "python",
   "pygments_lexer": "ipython3",
   "version": "3.6.7"
  },
  "toc": {
   "base_numbering": 1,
   "nav_menu": {},
   "number_sections": true,
   "sideBar": true,
   "skip_h1_title": false,
   "title_cell": "Table of Contents",
   "title_sidebar": "Contents",
   "toc_cell": false,
   "toc_position": {},
   "toc_section_display": true,
   "toc_window_display": false
  }
 },
 "nbformat": 4,
 "nbformat_minor": 4
}
